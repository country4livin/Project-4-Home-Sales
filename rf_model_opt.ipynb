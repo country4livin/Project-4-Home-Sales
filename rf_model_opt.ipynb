{
 "cells": [
  {
   "cell_type": "code",
   "execution_count": 64,
   "id": "1ed88849",
   "metadata": {},
   "outputs": [],
   "source": [
    "# Initial imports\n",
    "import pandas as pd\n",
    "import numpy as np\n",
    "from pathlib import Path\n",
    "from sklearn.ensemble import RandomForestClassifier\n",
    "from sklearn.preprocessing import StandardScaler\n",
    "from sklearn.model_selection import train_test_split\n",
    "from sklearn.metrics import confusion_matrix, accuracy_score, classification_report"
   ]
  },
  {
   "cell_type": "code",
   "execution_count": 65,
   "id": "44cfe5fb",
   "metadata": {},
   "outputs": [
    {
     "data": {
      "application/vnd.microsoft.datawrangler.viewer.v0+json": {
       "columns": [
        {
         "name": "index",
         "rawType": "int64",
         "type": "integer"
        },
        {
         "name": "list_date",
         "rawType": "object",
         "type": "string"
        },
        {
         "name": "list_price",
         "rawType": "float64",
         "type": "float"
        },
        {
         "name": "sold_date",
         "rawType": "object",
         "type": "string"
        },
        {
         "name": "sold_price",
         "rawType": "int64",
         "type": "integer"
        },
        {
         "name": "beds",
         "rawType": "float64",
         "type": "float"
        },
        {
         "name": "baths",
         "rawType": "float64",
         "type": "float"
        },
        {
         "name": "sqft",
         "rawType": "float64",
         "type": "float"
        },
        {
         "name": "lot_sqft",
         "rawType": "float64",
         "type": "float"
        },
        {
         "name": "city",
         "rawType": "object",
         "type": "string"
        },
        {
         "name": "street",
         "rawType": "object",
         "type": "string"
        },
        {
         "name": "zip",
         "rawType": "int64",
         "type": "integer"
        },
        {
         "name": "latitude",
         "rawType": "float64",
         "type": "float"
        },
        {
         "name": "longitude",
         "rawType": "float64",
         "type": "float"
        }
       ],
       "ref": "5d8e4b5d-916d-43f6-9784-637bd4715d09",
       "rows": [
        [
         "0",
         "2025-01-31",
         "209900.0",
         "2025-03-31",
         "209900",
         "2.0",
         "1.5",
         "904.0",
         "4704.0",
         "Saint Paul",
         "868 Algonquin Ave",
         "55119",
         "44.967562",
         "-93.017718"
        ],
        [
         "1",
         "2024-11-15",
         "374900.0",
         "2024-12-13",
         "391000",
         "3.0",
         "1.5",
         "1534.0",
         "4966.0",
         "Saint Paul",
         "1246 Bayard Ave",
         "55116",
         "44.922167",
         "-93.152861"
        ],
        [
         "2",
         "2024-12-20",
         "275000.0",
         "2025-01-10",
         "266800",
         "3.0",
         "1.0",
         "1297.0",
         "6534.0",
         "Saint Paul",
         "967 California Ave W",
         "55117",
         "44.991249",
         "-93.140914"
        ],
        [
         "3",
         "2025-01-23",
         "500000.0",
         "2025-02-28",
         "505003",
         "3.0",
         "2.0",
         "1636.0",
         "5009.0",
         "Saint Paul",
         "2098 Pinehurst Ave",
         "55116",
         "44.918628",
         "-93.189055"
        ],
        [
         "4",
         "2025-03-18",
         "425000.0",
         "2025-04-08",
         "475000",
         "4.0",
         "1.0",
         "1750.0",
         "7362.0",
         "Saint Paul",
         "2129 Sargent Ave",
         "55105",
         "44.935472",
         "-93.190323"
        ]
       ],
       "shape": {
        "columns": 13,
        "rows": 5
       }
      },
      "text/html": [
       "<div>\n",
       "<style scoped>\n",
       "    .dataframe tbody tr th:only-of-type {\n",
       "        vertical-align: middle;\n",
       "    }\n",
       "\n",
       "    .dataframe tbody tr th {\n",
       "        vertical-align: top;\n",
       "    }\n",
       "\n",
       "    .dataframe thead th {\n",
       "        text-align: right;\n",
       "    }\n",
       "</style>\n",
       "<table border=\"1\" class=\"dataframe\">\n",
       "  <thead>\n",
       "    <tr style=\"text-align: right;\">\n",
       "      <th></th>\n",
       "      <th>list_date</th>\n",
       "      <th>list_price</th>\n",
       "      <th>sold_date</th>\n",
       "      <th>sold_price</th>\n",
       "      <th>beds</th>\n",
       "      <th>baths</th>\n",
       "      <th>sqft</th>\n",
       "      <th>lot_sqft</th>\n",
       "      <th>city</th>\n",
       "      <th>street</th>\n",
       "      <th>zip</th>\n",
       "      <th>latitude</th>\n",
       "      <th>longitude</th>\n",
       "    </tr>\n",
       "  </thead>\n",
       "  <tbody>\n",
       "    <tr>\n",
       "      <th>0</th>\n",
       "      <td>2025-01-31</td>\n",
       "      <td>209900.0</td>\n",
       "      <td>2025-03-31</td>\n",
       "      <td>209900</td>\n",
       "      <td>2.0</td>\n",
       "      <td>1.5</td>\n",
       "      <td>904.0</td>\n",
       "      <td>4704.0</td>\n",
       "      <td>Saint Paul</td>\n",
       "      <td>868 Algonquin Ave</td>\n",
       "      <td>55119</td>\n",
       "      <td>44.967562</td>\n",
       "      <td>-93.017718</td>\n",
       "    </tr>\n",
       "    <tr>\n",
       "      <th>1</th>\n",
       "      <td>2024-11-15</td>\n",
       "      <td>374900.0</td>\n",
       "      <td>2024-12-13</td>\n",
       "      <td>391000</td>\n",
       "      <td>3.0</td>\n",
       "      <td>1.5</td>\n",
       "      <td>1534.0</td>\n",
       "      <td>4966.0</td>\n",
       "      <td>Saint Paul</td>\n",
       "      <td>1246 Bayard Ave</td>\n",
       "      <td>55116</td>\n",
       "      <td>44.922167</td>\n",
       "      <td>-93.152861</td>\n",
       "    </tr>\n",
       "    <tr>\n",
       "      <th>2</th>\n",
       "      <td>2024-12-20</td>\n",
       "      <td>275000.0</td>\n",
       "      <td>2025-01-10</td>\n",
       "      <td>266800</td>\n",
       "      <td>3.0</td>\n",
       "      <td>1.0</td>\n",
       "      <td>1297.0</td>\n",
       "      <td>6534.0</td>\n",
       "      <td>Saint Paul</td>\n",
       "      <td>967 California Ave W</td>\n",
       "      <td>55117</td>\n",
       "      <td>44.991249</td>\n",
       "      <td>-93.140914</td>\n",
       "    </tr>\n",
       "    <tr>\n",
       "      <th>3</th>\n",
       "      <td>2025-01-23</td>\n",
       "      <td>500000.0</td>\n",
       "      <td>2025-02-28</td>\n",
       "      <td>505003</td>\n",
       "      <td>3.0</td>\n",
       "      <td>2.0</td>\n",
       "      <td>1636.0</td>\n",
       "      <td>5009.0</td>\n",
       "      <td>Saint Paul</td>\n",
       "      <td>2098 Pinehurst Ave</td>\n",
       "      <td>55116</td>\n",
       "      <td>44.918628</td>\n",
       "      <td>-93.189055</td>\n",
       "    </tr>\n",
       "    <tr>\n",
       "      <th>4</th>\n",
       "      <td>2025-03-18</td>\n",
       "      <td>425000.0</td>\n",
       "      <td>2025-04-08</td>\n",
       "      <td>475000</td>\n",
       "      <td>4.0</td>\n",
       "      <td>1.0</td>\n",
       "      <td>1750.0</td>\n",
       "      <td>7362.0</td>\n",
       "      <td>Saint Paul</td>\n",
       "      <td>2129 Sargent Ave</td>\n",
       "      <td>55105</td>\n",
       "      <td>44.935472</td>\n",
       "      <td>-93.190323</td>\n",
       "    </tr>\n",
       "  </tbody>\n",
       "</table>\n",
       "</div>"
      ],
      "text/plain": [
       "    list_date  list_price   sold_date  sold_price  beds  baths    sqft  \\\n",
       "0  2025-01-31    209900.0  2025-03-31      209900   2.0    1.5   904.0   \n",
       "1  2024-11-15    374900.0  2024-12-13      391000   3.0    1.5  1534.0   \n",
       "2  2024-12-20    275000.0  2025-01-10      266800   3.0    1.0  1297.0   \n",
       "3  2025-01-23    500000.0  2025-02-28      505003   3.0    2.0  1636.0   \n",
       "4  2025-03-18    425000.0  2025-04-08      475000   4.0    1.0  1750.0   \n",
       "\n",
       "   lot_sqft        city                street    zip   latitude  longitude  \n",
       "0    4704.0  Saint Paul     868 Algonquin Ave  55119  44.967562 -93.017718  \n",
       "1    4966.0  Saint Paul       1246 Bayard Ave  55116  44.922167 -93.152861  \n",
       "2    6534.0  Saint Paul  967 California Ave W  55117  44.991249 -93.140914  \n",
       "3    5009.0  Saint Paul    2098 Pinehurst Ave  55116  44.918628 -93.189055  \n",
       "4    7362.0  Saint Paul      2129 Sargent Ave  55105  44.935472 -93.190323  "
      ]
     },
     "execution_count": 65,
     "metadata": {},
     "output_type": "execute_result"
    }
   ],
   "source": [
    "# Load and clean data\n",
    "df = pd.read_csv(\"Resources/st_paul_sold_properties .csv\")\n",
    "df.head()"
   ]
  },
  {
   "cell_type": "code",
   "execution_count": 66,
   "id": "7a41518c",
   "metadata": {},
   "outputs": [],
   "source": [
    "# Convert dates\n",
    "df['list_date'] = pd.to_datetime(df['list_date'], errors='coerce')\n",
    "df['sold_date'] = pd.to_datetime(df['sold_date'], errors='coerce')\n",
    "\n",
    "# Drop rows with missing or invalid dates\n",
    "df = df.dropna(subset=['list_date', 'sold_date'])\n",
    "\n",
    "# Calculate days_on_market\n",
    "df['days_on_market'] = (df['sold_date'] - df['list_date']).dt.days\n",
    "df = df[df['days_on_market'] >= 0]\n",
    "# Calculate price per sq ft, bed/bath ratio\n",
    "df['price_per_sqft'] = df['list_price'] / df['sqft']\n",
    "df['month_listed'] = pd.to_datetime(df['list_date'], errors='coerce').dt.month\n",
    "df['year_listed'] = pd.to_datetime(df['list_date'], errors='coerce').dt.year\n",
    "\n",
    "# Drop rows with missing target\n",
    "df = df.dropna(subset=['days_on_market'])\n",
    "\n",
    "# Drop unneeded columns\n",
    "df_model = df.drop(columns=['list_date', 'sold_date', 'city', 'street', 'latitude', 'longitude'], errors='ignore')\n",
    "\n",
    "# Drop rows with any remaining NaNs\n",
    "df_model = df_model.dropna()"
   ]
  },
  {
   "cell_type": "code",
   "execution_count": 67,
   "id": "53ea351f",
   "metadata": {},
   "outputs": [],
   "source": [
    "# Features and target\n",
    "X = df_model.drop(columns='days_on_market')\n",
    "y = df_model['days_on_market']\n",
    "\n",
    "# # Apply log1p transformation to target\n",
    "# y_log = np.log1p(y)"
   ]
  },
  {
   "cell_type": "code",
   "execution_count": 68,
   "id": "fa21b03d",
   "metadata": {},
   "outputs": [],
   "source": [
    "# Train/test split\n",
    "X_train, X_test, y_train, y_test = train_test_split(X, y_log, test_size=0.2, random_state=42)"
   ]
  },
  {
   "cell_type": "code",
   "execution_count": 69,
   "id": "7b08a527",
   "metadata": {},
   "outputs": [],
   "source": [
    "from sklearn.ensemble import RandomForestRegressor\n",
    "from scipy.stats import randint\n",
    "\n",
    "# Define optimized hyperparameters\n",
    "best_params = {\n",
    "    'n_estimators': 443,  \n",
    "    'max_depth': 20,\n",
    "    'min_samples_split': 2,  \n",
    "    'min_samples_leaf': 1\n",
    "}\n",
    "\n",
    "# Initialize and train the model with optimized parameters\n",
    "rf_model = RandomForestRegressor(**best_params, random_state=42, bootstrap=True)\n",
    "rf_model.fit(X_train, y_train)\n",
    "\n",
    "# Make predictions\n",
    "y_pred = rf_model.predict(X_test)"
   ]
  },
  {
   "cell_type": "code",
   "execution_count": 70,
   "id": "1b75c623",
   "metadata": {},
   "outputs": [
    {
     "name": "stdout",
     "output_type": "stream",
     "text": [
      "Model MAE: 0.34\n",
      "Model R²: 0.4792\n"
     ]
    }
   ],
   "source": [
    "from sklearn.metrics import mean_absolute_error, r2_score\n",
    "\n",
    "mae = mean_absolute_error(y_test, y_pred)\n",
    "r2 = r2_score(y_test, y_pred)\n",
    "\n",
    "print(f\"Model MAE: {mae:.2f}\")\n",
    "print(f\"Model R²: {r2:.4f}\")"
   ]
  },
  {
   "cell_type": "code",
   "execution_count": 71,
   "id": "d080acd7",
   "metadata": {},
   "outputs": [
    {
     "data": {
      "text/plain": [
       "[(0.238131578815029, 'year_listed'),\n",
       " (0.20362343245793682, 'month_listed'),\n",
       " (0.1009068846420367, 'price_per_sqft'),\n",
       " (0.0986705029432215, 'sold_price'),\n",
       " (0.08987829518545148, 'list_price'),\n",
       " (0.08271890666097476, 'lot_sqft'),\n",
       " (0.07067993178369673, 'sqft'),\n",
       " (0.053471259684047964, 'zip'),\n",
       " (0.037012694666140204, 'beds'),\n",
       " (0.024906513161464697, 'baths')]"
      ]
     },
     "execution_count": 71,
     "metadata": {},
     "output_type": "execute_result"
    }
   ],
   "source": [
    "# Random Forests in sklearn will automatically calculate feature importance\n",
    "importances = rf_model.feature_importances_\n",
    "# We can sort the features by their importance\n",
    "sorted(zip(rf_model.feature_importances_, X.columns), reverse=True)"
   ]
  },
  {
   "cell_type": "code",
   "execution_count": 72,
   "id": "27711afe",
   "metadata": {},
   "outputs": [
    {
     "data": {
      "text/plain": [
       "<Axes: title={'center': 'Features Importances'}, ylabel='1'>"
      ]
     },
     "execution_count": 72,
     "metadata": {},
     "output_type": "execute_result"
    },
    {
     "data": {
      "image/png": "[encoded data removed]",
      "text/plain": [
       "<Figure size 640x480 with 1 Axes>"
      ]
     },
     "metadata": {},
     "output_type": "display_data"
    }
   ],
   "source": [
    "# Visualize the features by importance\n",
    "importances_df = pd.DataFrame(sorted(zip(rf_model.feature_importances_, X.columns), reverse=True))\n",
    "importances_df.set_index(importances_df[1], inplace=True)\n",
    "importances_df.drop(columns=1, inplace=True)\n",
    "importances_df.rename(columns={0: 'Feature Importances'}, inplace=True)\n",
    "importances_sorted = importances_df.sort_values(by='Feature Importances')\n",
    "importances_sorted.plot(kind='barh', color='lightgreen', title= 'Features Importances', legend=False)"
   ]
  }
 ],
 "metadata": {
  "kernelspec": {
   "display_name": "dev",
   "language": "python",
   "name": "python3"
  },
  "language_info": {
   "codemirror_mode": {
    "name": "ipython",
    "version": 3
   },
   "file_extension": ".py",
   "mimetype": "text/x-python",
   "name": "python",
   "nbconvert_exporter": "python",
   "pygments_lexer": "ipython3",
   "version": "3.10.16"
  }
 },
 "nbformat": 4,
 "nbformat_minor": 5
}
