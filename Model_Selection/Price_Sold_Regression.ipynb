{
 "cells": [
  {
   "cell_type": "code",
   "execution_count": 1,
   "id": "5fca1c73-e889-4c14-9fca-742686993bc4",
   "metadata": {},
   "outputs": [],
   "source": [
    "# Import Dependencies\n",
    "from sklearn.pipeline import Pipeline\n",
    "from sklearn.compose import ColumnTransformer\n",
    "from sklearn.preprocessing import StandardScaler, OneHotEncoder\n",
    "from sklearn.impute import SimpleImputer\n",
    "from sklearn.ensemble import GradientBoostingRegressor\n",
    "from sklearn.model_selection import train_test_split, GridSearchCV\n",
    "from sklearn.metrics import r2_score\n",
    "import pandas as pd\n",
    "\n",
    "import pickle"
   ]
  },
  {
   "cell_type": "code",
   "execution_count": 2,
   "id": "d86cfd88-76fe-4464-9d7b-4b40d68c76e1",
   "metadata": {},
   "outputs": [
    {
     "data": {
      "text/html": [
       "<div>\n",
       "<style scoped>\n",
       "    .dataframe tbody tr th:only-of-type {\n",
       "        vertical-align: middle;\n",
       "    }\n",
       "\n",
       "    .dataframe tbody tr th {\n",
       "        vertical-align: top;\n",
       "    }\n",
       "\n",
       "    .dataframe thead th {\n",
       "        text-align: right;\n",
       "    }\n",
       "</style>\n",
       "<table border=\"1\" class=\"dataframe\">\n",
       "  <thead>\n",
       "    <tr style=\"text-align: right;\">\n",
       "      <th></th>\n",
       "      <th>list_date</th>\n",
       "      <th>list_price</th>\n",
       "      <th>sold_date</th>\n",
       "      <th>sold_price</th>\n",
       "      <th>beds</th>\n",
       "      <th>baths</th>\n",
       "      <th>sqft</th>\n",
       "      <th>lot_sqft</th>\n",
       "      <th>city</th>\n",
       "      <th>street</th>\n",
       "      <th>zip</th>\n",
       "      <th>latitude</th>\n",
       "      <th>longitude</th>\n",
       "    </tr>\n",
       "  </thead>\n",
       "  <tbody>\n",
       "    <tr>\n",
       "      <th>0</th>\n",
       "      <td>1/23/2025</td>\n",
       "      <td>500000.0</td>\n",
       "      <td>2/28/2025</td>\n",
       "      <td>505003</td>\n",
       "      <td>3.0</td>\n",
       "      <td>2.0</td>\n",
       "      <td>1636.0</td>\n",
       "      <td>5009.0</td>\n",
       "      <td>Saint Paul</td>\n",
       "      <td>2098 Pinehurst Ave</td>\n",
       "      <td>55116</td>\n",
       "      <td>44.918628</td>\n",
       "      <td>-93.189055</td>\n",
       "    </tr>\n",
       "    <tr>\n",
       "      <th>1</th>\n",
       "      <td>9/3/2024</td>\n",
       "      <td>189900.0</td>\n",
       "      <td>12/11/2024</td>\n",
       "      <td>189900</td>\n",
       "      <td>2.0</td>\n",
       "      <td>1.0</td>\n",
       "      <td>832.0</td>\n",
       "      <td>4792.0</td>\n",
       "      <td>Saint Paul</td>\n",
       "      <td>536 Edmund Ave</td>\n",
       "      <td>55103</td>\n",
       "      <td>44.958192</td>\n",
       "      <td>-93.122838</td>\n",
       "    </tr>\n",
       "    <tr>\n",
       "      <th>2</th>\n",
       "      <td>12/20/2024</td>\n",
       "      <td>275000.0</td>\n",
       "      <td>1/10/2025</td>\n",
       "      <td>266800</td>\n",
       "      <td>3.0</td>\n",
       "      <td>1.0</td>\n",
       "      <td>1297.0</td>\n",
       "      <td>6534.0</td>\n",
       "      <td>Saint Paul</td>\n",
       "      <td>967 California Ave W</td>\n",
       "      <td>55117</td>\n",
       "      <td>44.991249</td>\n",
       "      <td>-93.140914</td>\n",
       "    </tr>\n",
       "    <tr>\n",
       "      <th>3</th>\n",
       "      <td>12/1/2024</td>\n",
       "      <td>324900.0</td>\n",
       "      <td>1/31/2025</td>\n",
       "      <td>325000</td>\n",
       "      <td>3.0</td>\n",
       "      <td>1.5</td>\n",
       "      <td>2185.0</td>\n",
       "      <td>6055.0</td>\n",
       "      <td>Saint Paul</td>\n",
       "      <td>627-629 Minnehaha Ave E</td>\n",
       "      <td>55130</td>\n",
       "      <td>44.963264</td>\n",
       "      <td>-93.074138</td>\n",
       "    </tr>\n",
       "    <tr>\n",
       "      <th>4</th>\n",
       "      <td>11/19/2024</td>\n",
       "      <td>214900.0</td>\n",
       "      <td>1/9/2025</td>\n",
       "      <td>210000</td>\n",
       "      <td>2.0</td>\n",
       "      <td>1.0</td>\n",
       "      <td>926.0</td>\n",
       "      <td>5001.0</td>\n",
       "      <td>Saint Paul</td>\n",
       "      <td>1631 Woodbridge St</td>\n",
       "      <td>55117</td>\n",
       "      <td>44.990397</td>\n",
       "      <td>-93.108765</td>\n",
       "    </tr>\n",
       "  </tbody>\n",
       "</table>\n",
       "</div>"
      ],
      "text/plain": [
       "    list_date  list_price   sold_date  sold_price  beds  baths    sqft  \\\n",
       "0   1/23/2025    500000.0   2/28/2025      505003   3.0    2.0  1636.0   \n",
       "1    9/3/2024    189900.0  12/11/2024      189900   2.0    1.0   832.0   \n",
       "2  12/20/2024    275000.0   1/10/2025      266800   3.0    1.0  1297.0   \n",
       "3   12/1/2024    324900.0   1/31/2025      325000   3.0    1.5  2185.0   \n",
       "4  11/19/2024    214900.0    1/9/2025      210000   2.0    1.0   926.0   \n",
       "\n",
       "   lot_sqft        city                   street    zip   latitude  longitude  \n",
       "0    5009.0  Saint Paul       2098 Pinehurst Ave  55116  44.918628 -93.189055  \n",
       "1    4792.0  Saint Paul           536 Edmund Ave  55103  44.958192 -93.122838  \n",
       "2    6534.0  Saint Paul     967 California Ave W  55117  44.991249 -93.140914  \n",
       "3    6055.0  Saint Paul  627-629 Minnehaha Ave E  55130  44.963264 -93.074138  \n",
       "4    5001.0  Saint Paul       1631 Woodbridge St  55117  44.990397 -93.108765  "
      ]
     },
     "execution_count": 2,
     "metadata": {},
     "output_type": "execute_result"
    }
   ],
   "source": [
    "# Load your dataset\n",
    "df = pd.read_csv(\"../Resources/cleaned_st_paul_properties.csv\")\n",
    "df.head()"
   ]
  },
  {
   "cell_type": "code",
   "execution_count": 3,
   "id": "70a5d81b-1a5b-4dc0-bb54-ed5245013115",
   "metadata": {},
   "outputs": [],
   "source": [
    "# Adding Polynomial Interaction to increase R2 value\n",
    "df['beds_baths_ratio'] = df['beds'] / (df['baths'] + 1)\n",
    "df['lot_to_sqft_ratio'] = df ['lot_sqft'] / df['sqft']"
   ]
  },
  {
   "cell_type": "code",
   "execution_count": 4,
   "id": "c68475f6-79da-469a-81c2-b120d96c7c60",
   "metadata": {},
   "outputs": [],
   "source": [
    "# Define target and features\n",
    "features = ['beds', 'baths', 'lot_sqft', 'sqft', 'beds_baths_ratio', 'lot_to_sqft_ratio']\n",
    "target = 'sold_price'\n",
    "\n",
    "# Drop rows with missing values for simplicity\n",
    "df_model = df[features + [target]].dropna()\n",
    "\n",
    "X = df_model[features]\n",
    "y = df_model[target]"
   ]
  },
  {
   "cell_type": "code",
   "execution_count": 5,
   "id": "88585515-64c2-4b8e-80e0-494b327d5b8c",
   "metadata": {},
   "outputs": [],
   "source": [
    "# Define column types\n",
    "numeric_features = X.select_dtypes(include=['int64', 'float64']).columns.tolist()\n",
    "categorical_features = X.select_dtypes(include=['object', 'category']).columns.tolist()\n",
    "\n",
    "# Preprocessing pipeline\n",
    "numeric_transformer = Pipeline([\n",
    "    ('imputer', SimpleImputer(strategy='median')),\n",
    "    ('scaler', StandardScaler())\n",
    "])\n",
    "\n",
    "categorical_transformer = Pipeline([\n",
    "    ('imputer', SimpleImputer(strategy='most_frequent')),\n",
    "    ('encoder', OneHotEncoder(handle_unknown='ignore'))\n",
    "])\n",
    "\n",
    "preprocessor = ColumnTransformer([\n",
    "    ('num', numeric_transformer, numeric_features),\n",
    "    ('cat', categorical_transformer, categorical_features)\n",
    "])"
   ]
  },
  {
   "cell_type": "code",
   "execution_count": 7,
   "id": "286ce227-2816-4cd1-a9bd-3a76ac64aa92",
   "metadata": {},
   "outputs": [],
   "source": [
    "# Define the full pipeline with Gradient Boosting\n",
    "pipe = Pipeline(steps=[\n",
    "    ('preprocessor', preprocessor),\n",
    "    ('regressor', GradientBoostingRegressor(random_state=42))\n",
    "])\n",
    "# Split data\n",
    "X_train, X_test, y_train, y_test = train_test_split(X, y, test_size=0.2, random_state=42)"
   ]
  },
  {
   "cell_type": "markdown",
   "id": "01e439c9-bdbc-4175-8d71-d8ed369f74c0",
   "metadata": {},
   "source": [
    "# Cross Validate Performance"
   ]
  },
  {
   "cell_type": "code",
   "execution_count": 10,
   "id": "7ae37d61-eb97-4030-bb5d-875228231044",
   "metadata": {},
   "outputs": [
    {
     "name": "stdout",
     "output_type": "stream",
     "text": [
      "✅ Best R² Score: 0.8284\n",
      "🏗️ Best Parameters: {'regressor__learning_rate': 0.07, 'regressor__max_depth': 6, 'regressor__n_estimators': 200, 'regressor__subsample': 0.8}\n"
     ]
    }
   ],
   "source": [
    "# Define the model and parameters to tune\n",
    "param_grid = {\n",
    "    'regressor__n_estimators': [200, 300, 400],\n",
    "    'regressor__learning_rate': [0.03, 0.05, 0.07],\n",
    "    'regressor__max_depth': [4, 5, 6],\n",
    "    'regressor__subsample': [0.8, 0.9, 1.0]\n",
    "}\n",
    "\n",
    "# Grid search\n",
    "grid_search = GridSearchCV(pipe, param_grid, cv=5, scoring='r2', n_jobs=-1)\n",
    "grid_search.fit(X_train, y_train)\n",
    "\n",
    "# Best model\n",
    "best_model = grid_search.best_estimator_\n",
    "\n",
    "# Evaluate\n",
    "y_pred = best_model.predict(X_test)\n",
    "r2 = r2_score(y_test, y_pred)\n",
    "\n",
    "print(f\"✅ Best R² Score: {r2:.4f}\")\n",
    "print(\"🏗️ Best Parameters:\", grid_search.best_params_)"
   ]
  },
  {
   "cell_type": "markdown",
   "id": "fedd79e3-d1fe-4e75-b128-9d7f23f5cb55",
   "metadata": {},
   "source": [
    "# Detect and Prevent Overfitting"
   ]
  },
  {
   "cell_type": "code",
   "execution_count": 11,
   "id": "ca74c930-6c42-4b59-9155-6d795ec9e643",
   "metadata": {},
   "outputs": [
    {
     "name": "stdout",
     "output_type": "stream",
     "text": [
      "R² on training data: 0.985\n",
      "R² on test data:     0.828\n"
     ]
    }
   ],
   "source": [
    "X_train, X_test, y_train, y_test = train_test_split(X, y, test_size=0.2, random_state=42)\n",
    "grid_search.fit(X_train, y_train)\n",
    "\n",
    "# Evaluate on training\n",
    "y_train_pred = grid_search.best_estimator_.predict(X_train)\n",
    "r2_train = r2_score(y_train, y_train_pred)\n",
    "\n",
    "# Evaluate on test\n",
    "y_test_pred = grid_search.best_estimator_.predict(X_test)\n",
    "r2_test = r2_score(y_test, y_test_pred)\n",
    "\n",
    "print(f\"R² on training data: {r2_train:.3f}\")\n",
    "print(f\"R² on test data:     {r2_test:.3f}\")"
   ]
  },
  {
   "cell_type": "code",
   "execution_count": 14,
   "id": "ad38cefd-342f-4b7a-8bd2-87585216f621",
   "metadata": {},
   "outputs": [
    {
     "name": "stdout",
     "output_type": "stream",
     "text": [
      "Model saved as 'sold_price_model.pkl'\n"
     ]
    }
   ],
   "source": [
    "# Save model to disk\n",
    "with open(\"sold_price_model.pkl\", \"wb\") as f:\n",
    "    pickle.dump(best_model, f)\n",
    "\n",
    "print(\"Model saved as 'sold_price_model.pkl'\")"
   ]
  },
  {
   "cell_type": "markdown",
   "id": "ea03d86c-f58c-4f63-bec4-4334258b23b1",
   "metadata": {},
   "source": [
    "# Results and Analysis:\n",
    "Ended up using Gradient Boosting Regressor to meet requirement of R2 greater than 0.80 and Optimization was a lot easier. \n",
    "\n",
    "- With Optimization of the Gradient Boosting Regressor the R2 value is 0.8284 which is greater than 0.80.\n",
    "- We did perform test to see if the model was overfitting and it was slightly by the training data being 0.985 R2 versus test being 0.828.\n",
    "- We saved the model to interact with the website. "
   ]
  },
  {
   "cell_type": "code",
   "execution_count": null,
   "id": "4bdcb70a-36f9-454e-af85-08d1db6037ea",
   "metadata": {},
   "outputs": [],
   "source": []
  }
 ],
 "metadata": {
  "kernelspec": {
   "display_name": "dev",
   "language": "python",
   "name": "python3"
  },
  "language_info": {
   "codemirror_mode": {
    "name": "ipython",
    "version": 3
   },
   "file_extension": ".py",
   "mimetype": "text/x-python",
   "name": "python",
   "nbconvert_exporter": "python",
   "pygments_lexer": "ipython3",
   "version": "3.10.16"
  }
 },
 "nbformat": 4,
 "nbformat_minor": 5
}
